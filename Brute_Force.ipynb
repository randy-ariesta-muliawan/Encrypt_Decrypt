{
  "cells": [
    {
      "cell_type": "code",
      "execution_count": null,
      "metadata": {
        "colab": {
          "base_uri": "https://localhost:8080/"
        },
        "id": "SKeJLYkJJqch",
        "outputId": "ea0f164d-4b2e-4c5c-ca83-16cb3b544e7c"
      },
      "outputs": [
        {
          "output_type": "stream",
          "name": "stdout",
          "text": [
            "Collecting langdetect\n",
            "  Downloading langdetect-1.0.9.tar.gz (981 kB)\n",
            "\u001b[?25l     \u001b[90m━━━━━━━━━━━━━━━━━━━━━━━━━━━━━━━━━━━━━━━━\u001b[0m \u001b[32m0.0/981.5 kB\u001b[0m \u001b[31m?\u001b[0m eta \u001b[36m-:--:--\u001b[0m\r\u001b[2K     \u001b[91m━━━━━━━━━━━━━━━━━━━━━━━━━━━━━━━━━━━━━━━\u001b[0m\u001b[91m╸\u001b[0m \u001b[32m972.8/981.5 kB\u001b[0m \u001b[31m63.2 MB/s\u001b[0m eta \u001b[36m0:00:01\u001b[0m\r\u001b[2K     \u001b[90m━━━━━━━━━━━━━━━━━━━━━━━━━━━━━━━━━━━━━━━━\u001b[0m \u001b[32m981.5/981.5 kB\u001b[0m \u001b[31m24.1 MB/s\u001b[0m eta \u001b[36m0:00:00\u001b[0m\n",
            "\u001b[?25h  Preparing metadata (setup.py) ... \u001b[?25l\u001b[?25hdone\n",
            "Requirement already satisfied: six in /usr/local/lib/python3.10/dist-packages (from langdetect) (1.17.0)\n",
            "Building wheels for collected packages: langdetect\n",
            "  Building wheel for langdetect (setup.py) ... \u001b[?25l\u001b[?25hdone\n",
            "  Created wheel for langdetect: filename=langdetect-1.0.9-py3-none-any.whl size=993222 sha256=8cb665a00faa13375474cfeb13cec4824c796f5ff80b883d6394ff3fe1b78b4f\n",
            "  Stored in directory: /root/.cache/pip/wheels/95/03/7d/59ea870c70ce4e5a370638b5462a7711ab78fba2f655d05106\n",
            "Successfully built langdetect\n",
            "Installing collected packages: langdetect\n",
            "Successfully installed langdetect-1.0.9\n"
          ]
        }
      ],
      "source": [
        "!pip install langdetect"
      ]
    },
    {
      "cell_type": "code",
      "execution_count": null,
      "metadata": {
        "id": "yMXyAuRSJve3"
      },
      "outputs": [],
      "source": [
        "from langdetect import detect, DetectorFactory\n",
        "import langdetect.lang_detect_exception as lang_detect_exception\n",
        "import string"
      ]
    },
    {
      "cell_type": "code",
      "source": [
        "text = \"J JJJ\"\n",
        "text.isprintable()"
      ],
      "metadata": {
        "colab": {
          "base_uri": "https://localhost:8080/"
        },
        "id": "gQFRP-2R2cm-",
        "outputId": "8d96d6f1-6a38-4617-d2c0-c2b8ee42585b"
      },
      "execution_count": null,
      "outputs": [
        {
          "output_type": "execute_result",
          "data": {
            "text/plain": [
              "False"
            ]
          },
          "metadata": {},
          "execution_count": 31
        }
      ]
    },
    {
      "cell_type": "code",
      "execution_count": null,
      "metadata": {
        "id": "hWug19XFOdL3",
        "colab": {
          "base_uri": "https://localhost:8080/"
        },
        "outputId": "a87b8e3c-51bd-434e-cfbf-b29ce81d3209"
      },
      "outputs": [
        {
          "output_type": "stream",
          "name": "stdout",
          "text": [
            "Enter the original message: i love to eat apple\n",
            "en\n",
            "Enter the shift value for encryption: 238\n",
            "\n",
            "Encrypted Message: W\u000eZ]dS\u000eb]\u000eSOb\u000eO^^ZS\n",
            "\n",
            "Possible decryption with shift value 238: i love to eat apple\n",
            "Detected language: en\n"
          ]
        }
      ],
      "source": [
        "\n",
        "from langdetect import detect, DetectorFactory\n",
        "import langdetect.lang_detect_exception as lang_detect_exception\n",
        "import string\n",
        "\n",
        "DetectorFactory.seed = 0\n",
        "\n",
        "def encrypt_caesar_cipher(text, shift):\n",
        "    result = \"\"\n",
        "    for i in range(len(text)):\n",
        "        c = text[i]\n",
        "        result += chr((ord(c) + shift + 256) % 256)\n",
        "    return result\n",
        "\n",
        "def decrypt_caesar_cipher(text, shift):\n",
        "    result = \"\"\n",
        "    for i in range(len(text)):\n",
        "        c = text[i]\n",
        "        result += chr((ord(c) - shift + 256) % 256)\n",
        "    return result\n",
        "\n",
        "original_message = input(\"Enter the original message: \")\n",
        "\n",
        "try:\n",
        "    lang = detect(original_message)\n",
        "    print(lang)\n",
        "except lang_detect_exception.LangDetectException:\n",
        "    print(\"Language detection failed. Please try a different message.\")\n",
        "    exit()\n",
        "\n",
        "shift_value = int(input(\"Enter the shift value for encryption: \"))\n",
        "\n",
        "encrypted_message = encrypt_caesar_cipher(original_message, shift_value)\n",
        "print(f\"\\nEncrypted Message: {encrypted_message}\")\n",
        "\n",
        "def check_printable(sentence):\n",
        "    total_chars = len(sentence)\n",
        "    if total_chars == 0:\n",
        "        return {\"probability\": 1.0, \"non_printable\": []}\n",
        "\n",
        "    printable_chars = 0\n",
        "    non_printable = []\n",
        "    for char in sentence:\n",
        "        if char in string.printable:\n",
        "            printable_chars += 1\n",
        "        else:\n",
        "            non_printable.append(char)\n",
        "\n",
        "    probability = printable_chars / total_chars\n",
        "    return probability\n",
        "\n",
        "possible_shifts = range(256)\n",
        "for shift in possible_shifts:\n",
        "    decrypted_message = decrypt_caesar_cipher(encrypted_message, shift)\n",
        "    if check_printable(decrypted_message) >= 0.90:\n",
        "      try:\n",
        "        detected_language = detect(decrypted_message)\n",
        "        if detected_language == \"en\" or detected_language == \"id\":\n",
        "          print(f\"\\nPossible decryption with shift value {shift}: {decrypted_message}\")\n",
        "          print(\"Detected language:\", detected_language)\n",
        "          break\n",
        "      except lang_detect_exception.LangDetectException:\n",
        "        pass"
      ]
    }
  ],
  "metadata": {
    "colab": {
      "provenance": []
    },
    "kernelspec": {
      "display_name": "Python 3",
      "name": "python3"
    },
    "language_info": {
      "name": "python"
    }
  },
  "nbformat": 4,
  "nbformat_minor": 0
}