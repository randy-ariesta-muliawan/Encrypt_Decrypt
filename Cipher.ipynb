{
  "nbformat": 4,
  "nbformat_minor": 0,
  "metadata": {
    "colab": {
      "provenance": [],
      "gpuType": "T4"
    },
    "kernelspec": {
      "name": "python3",
      "display_name": "Python 3"
    },
    "language_info": {
      "name": "python"
    },
    "accelerator": "GPU"
  },
  "cells": [
    {
      "cell_type": "code",
      "execution_count": 2,
      "metadata": {
        "id": "9Zon-1jSvOFN",
        "colab": {
          "base_uri": "https://localhost:8080/"
        },
        "outputId": "2d51f75e-f106-4099-ce78-5f8109e3af42"
      },
      "outputs": [
        {
          "output_type": "stream",
          "name": "stdout",
          "text": [
            "Collecting langdetect\n",
            "  Downloading langdetect-1.0.9.tar.gz (981 kB)\n",
            "\u001b[?25l     \u001b[90m━━━━━━━━━━━━━━━━━━━━━━━━━━━━━━━━━━━━━━━━\u001b[0m \u001b[32m0.0/981.5 kB\u001b[0m \u001b[31m?\u001b[0m eta \u001b[36m-:--:--\u001b[0m\r\u001b[2K     \u001b[91m━━━━━━━━━━━━━━━━━━━━━━━━\u001b[0m\u001b[91m╸\u001b[0m\u001b[90m━━━━━━━━━━━━━\u001b[0m \u001b[32m634.9/981.5 kB\u001b[0m \u001b[31m20.3 MB/s\u001b[0m eta \u001b[36m0:00:01\u001b[0m\r\u001b[2K     \u001b[90m━━━━━━━━━━━━━━━━━━━━━━━━━━━━━━━━━━━━━━\u001b[0m \u001b[32m981.5/981.5 kB\u001b[0m \u001b[31m19.3 MB/s\u001b[0m eta \u001b[36m0:00:00\u001b[0m\n",
            "\u001b[?25h  Preparing metadata (setup.py) ... \u001b[?25l\u001b[?25hdone\n",
            "Requirement already satisfied: six in /usr/local/lib/python3.11/dist-packages (from langdetect) (1.17.0)\n",
            "Building wheels for collected packages: langdetect\n",
            "  Building wheel for langdetect (setup.py) ... \u001b[?25l\u001b[?25hdone\n",
            "  Created wheel for langdetect: filename=langdetect-1.0.9-py3-none-any.whl size=993223 sha256=f4fa49b91f212ef23ce1c829e56feb1f2a2738c86e3ce443ae8982c6e849f322\n",
            "  Stored in directory: /root/.cache/pip/wheels/0a/f2/b2/e5ca405801e05eb7c8ed5b3b4bcf1fcabcd6272c167640072e\n",
            "Successfully built langdetect\n",
            "Installing collected packages: langdetect\n",
            "Successfully installed langdetect-1.0.9\n"
          ]
        }
      ],
      "source": [
        "!pip install langdetect"
      ]
    },
    {
      "cell_type": "code",
      "source": [
        "from langdetect import detect\n",
        "\n",
        "text = input(\"Enter the text to encrypt: \")\n",
        "shift = int(input(\"Enter the shift value (integer): \"))\n",
        "\n",
        "def caesar_cipher_encrypt(text, shift):\n",
        "    encrypted_text = ''.join(chr((ord(char) + shift) % 256) for char in text)\n",
        "    return encrypted_text\n",
        "\n",
        "def caesar_cipher_decrypt(text, shift):\n",
        "    decrypted_text = ''.join(chr((ord(char) - shift) % 256) for char in text)\n",
        "    return decrypted_text\n",
        "\n",
        "def encrypt_text(text, shift):\n",
        "    try:\n",
        "        detected_language = detect(text)\n",
        "        encrypted_text = caesar_cipher_encrypt(text, shift)\n",
        "        return detected_language, encrypted_text\n",
        "    except Exception as e:\n",
        "        return str(e), None\n",
        "\n",
        "def decrypt_text(encrypted_text, shift):\n",
        "    try:\n",
        "        decrypted_text = caesar_cipher_decrypt(encrypted_text, shift)\n",
        "        return decrypted_text\n",
        "    except Exception as e:\n",
        "        return str(e)\n",
        "\n",
        "lang, encrypted = encrypt_text(text, shift)\n",
        "\n",
        "if encrypted:\n",
        "    print(f\"Detected Language: {lang}\")\n",
        "    print(f\"Encrypted Text: {encrypted}\")\n",
        "\n",
        "    decrypted = decrypt_text(encrypted, shift)\n",
        "    print(f\"Decrypted Text: {decrypted}\")\n"
      ],
      "metadata": {
        "id": "yX_VcoRy-jEw",
        "colab": {
          "base_uri": "https://localhost:8080/"
        },
        "outputId": "6b41db66-d56c-4c61-9a13-6d68d88e809b"
      },
      "execution_count": 3,
      "outputs": [
        {
          "output_type": "stream",
          "name": "stdout",
          "text": [
            "Enter the text to encrypt: i love to eat an apple\n",
            "Enter the shift value (integer): 12\n",
            "Detected Language: en\n",
            "Encrypted Text: u,x{q,{,qm,mz,m||xq\n",
            "Decrypted Text: i love to eat an apple\n"
          ]
        }
      ]
    },
    {
      "cell_type": "code",
      "source": [],
      "metadata": {
        "id": "3oflOfZN_uQp"
      },
      "execution_count": null,
      "outputs": []
    }
  ]
}